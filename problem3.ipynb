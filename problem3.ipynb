{
 "cells": [
  {
   "cell_type": "code",
   "execution_count": 1,
   "metadata": {},
   "outputs": [
    {
     "name": "stdout",
     "output_type": "stream",
     "text": [
      "Alexis\n",
      "Madonna\n"
     ]
    }
   ],
   "source": [
    "def best(score,names):\n",
    "    scores = []\n",
    "    for i in range(len(names)):\n",
    "        scores.append(score(names[i]))\n",
    "    for i in range(len(names)):\n",
    "        if score(names[i]) == max(scores):\n",
    "            return(names[i])\n",
    "names = [\"Ben\",\"April\",\"Zaber\",\"Alexis\",\"McJagger\",\"J.J.\",\"Madonna\"]\n",
    "\n",
    "def number_of_vowels(x):\n",
    "    num_vowel = 0\n",
    "    for i in range(len(x)):\n",
    "        if x[i].lower() in ['a','e','i','o','u']:\n",
    "            num_vowel += 1\n",
    "    return num_vowel\n",
    "\n",
    "print(best(number_of_vowels,names))\n",
    "print(best(lambda x: (x.lower()).count('a'),names))"
   ]
  },
  {
   "cell_type": "code",
   "execution_count": null,
   "metadata": {},
   "outputs": [],
   "source": []
  }
 ],
 "metadata": {
  "kernelspec": {
   "display_name": "Python 3",
   "language": "python",
   "name": "python3"
  },
  "language_info": {
   "codemirror_mode": {
    "name": "ipython",
    "version": 3
   },
   "file_extension": ".py",
   "mimetype": "text/x-python",
   "name": "python",
   "nbconvert_exporter": "python",
   "pygments_lexer": "ipython3",
   "version": "3.7.6"
  }
 },
 "nbformat": 4,
 "nbformat_minor": 4
}
