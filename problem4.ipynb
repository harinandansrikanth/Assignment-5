{
 "cells": [
  {
   "cell_type": "code",
   "execution_count": 2,
   "metadata": {},
   "outputs": [
    {
     "name": "stdout",
     "output_type": "stream",
     "text": [
      "Enter a number: t\n",
      "You did not enter a valid number.\n",
      "Enter a number: 6\n",
      "The reciprocal of your number is 0.16666666666666666\n"
     ]
    }
   ],
   "source": [
    "while True:\n",
    "    try:\n",
    "        x = float(input(\"Enter a number: \"))\n",
    "        print(\"The reciprocal of your number is\", 1/x) \n",
    "        break\n",
    "    except ValueError:\n",
    "        print(\"You did not enter a valid number.\")\n",
    "    except ZeroDivisionError:\n",
    "        print(\"Zero does not have a reciprocal\") \n",
    "        break\n",
    "    except:\n",
    "        print(\"something else went wrong.\")\n",
    "        \n"
   ]
  },
  {
   "cell_type": "code",
   "execution_count": 7,
   "metadata": {},
   "outputs": [
    {
     "name": "stdout",
     "output_type": "stream",
     "text": [
      "Could not complete grading: Percentages must add up to 100.\n"
     ]
    }
   ],
   "source": [
    "def weighted_grades(grades,weights):\n",
    "    for i in range(len(weights)):\n",
    "        if weights[i] < 0 or weights[i] > 100:\n",
    "            raise Exception(\"Percentages can only be between 0 and 100.\")\n",
    "    if sum(weights) != 100:\n",
    "        raise Exception(\"Percentages must add up to 100.\")\n",
    "    weighted_ave = 0\n",
    "    for i in range(len(weights)):\n",
    "        weighted_ave += (grades[i]*(weights[i]/100))\n",
    "    return(weighted_ave)\n",
    "\n",
    "grades1 = [88,99,100,70] \n",
    "weights1 = [30, 30, 30, 5]\n",
    "\n",
    "try:\n",
    "    print(weighted_grades(grades1,weights1))\n",
    "except Exception as e:\n",
    "    print(\"Could not complete grading: \" + str(e))"
   ]
  },
  {
   "cell_type": "code",
   "execution_count": 8,
   "metadata": {},
   "outputs": [
    {
     "name": "stdout",
     "output_type": "stream",
     "text": [
      "Could not complete grading: Percentages can only be between 0 and 100.\n"
     ]
    }
   ],
   "source": [
    "grades2 = [78, 75, 80, 99] \n",
    "weights2 = [110, 10, -20]\n",
    "\n",
    "try:\n",
    "    print(weighted_grades(grades2,weights2))\n",
    "except Exception as e:\n",
    "    print(\"Could not complete grading: \" + str(e))"
   ]
  },
  {
   "cell_type": "code",
   "execution_count": 13,
   "metadata": {},
   "outputs": [
    {
     "name": "stdout",
     "output_type": "stream",
     "text": [
      "89.6\n"
     ]
    }
   ],
   "source": [
    "grades3 = [86,88,95,90]\n",
    "weights3 = [25,20,20,35]\n",
    "\n",
    "try:\n",
    "    print(weighted_grades(grades3,weights3))\n",
    "except Exception as e:\n",
    "    print(\"Could not complete grading: \" + str(e))"
   ]
  },
  {
   "cell_type": "code",
   "execution_count": null,
   "metadata": {},
   "outputs": [],
   "source": []
  }
 ],
 "metadata": {
  "kernelspec": {
   "display_name": "Python 3",
   "language": "python",
   "name": "python3"
  },
  "language_info": {
   "codemirror_mode": {
    "name": "ipython",
    "version": 3
   },
   "file_extension": ".py",
   "mimetype": "text/x-python",
   "name": "python",
   "nbconvert_exporter": "python",
   "pygments_lexer": "ipython3",
   "version": "3.7.6"
  }
 },
 "nbformat": 4,
 "nbformat_minor": 4
}
