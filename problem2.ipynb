{
 "cells": [
  {
   "cell_type": "code",
   "execution_count": 6,
   "metadata": {},
   "outputs": [
    {
     "name": "stdout",
     "output_type": "stream",
     "text": [
      "[('oranges', 4, 3.22), ('gummy bears', 1, 1.99), ('sour bites', 3, 2.33), ('antacid', 1, 5.33)]\n",
      "Checking out 4 oranges. Cost is $12.88.\n",
      "[('gummy bears', 1, 1.99), ('sour bites', 3, 2.33), ('antacid', 1, 5.33)]\n",
      "Checking out 1 gummy bears. Cost is $1.99.\n",
      "[('sour bites', 3, 2.33), ('antacid', 1, 5.33)]\n",
      "Checking out 3 sour bites. Cost is $6.99.\n",
      "[('antacid', 1, 5.33)]\n",
      "Checking out 1 antacid. Cost is $5.33.\n",
      "total price: $27.19\n"
     ]
    }
   ],
   "source": [
    "def process_order(x):\n",
    "    checkout = x[0]\n",
    "    x.remove(checkout)\n",
    "    print(\"Checking out \" + str(checkout[1]) + \" \" + checkout[0] + \".\" + \" Cost is $\" + str(checkout[1]*checkout[2]) + \".\") \n",
    "    \n",
    "x = [(\"oranges\", 4, 3.22),(\"gummy bears\",1,1.99),(\"sour bites\", 3, 2.33), (\"antacid\", 1, 5.33)] \n",
    "\n",
    "total = 0\n",
    "for i in range(len(x)):\n",
    "    total += ((x[i][1])*(x[i][2]))\n",
    "    \n",
    "while(len(x)>0):\n",
    "    print(x)\n",
    "    process_order(x)\n",
    "    \n",
    "print(\"total price:\", \"$\"+str(round(total,2)))"
   ]
  },
  {
   "cell_type": "code",
   "execution_count": null,
   "metadata": {},
   "outputs": [],
   "source": []
  }
 ],
 "metadata": {
  "kernelspec": {
   "display_name": "Python 3",
   "language": "python",
   "name": "python3"
  },
  "language_info": {
   "codemirror_mode": {
    "name": "ipython",
    "version": 3
   },
   "file_extension": ".py",
   "mimetype": "text/x-python",
   "name": "python",
   "nbconvert_exporter": "python",
   "pygments_lexer": "ipython3",
   "version": "3.7.6"
  }
 },
 "nbformat": 4,
 "nbformat_minor": 4
}
