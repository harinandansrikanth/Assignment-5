{
 "cells": [
  {
   "cell_type": "code",
   "execution_count": 51,
   "metadata": {},
   "outputs": [
    {
     "name": "stdout",
     "output_type": "stream",
     "text": [
      "10\n",
      "-10\n"
     ]
    }
   ],
   "source": [
    "def sum_digits(x):\n",
    "    \"\"\"Takes an integer and returns the sum of its digits.\"\"\"\n",
    "    if x < 0:\n",
    "        x = -x\n",
    "        x = str(x)\n",
    "        dig_sum = 0\n",
    "        for i in range(len(x)):\n",
    "            dig_sum += int(x[i])\n",
    "        return -dig_sum \n",
    "    else:\n",
    "        x = str(x)\n",
    "        dig_sum = 0\n",
    "        for i in range(len(x)):\n",
    "            dig_sum += int(x[i])\n",
    "        return dig_sum    \n",
    "    \n",
    "print(sum_digits(1234))\n",
    "print(sum_digits(-1234))"
   ]
  },
  {
   "cell_type": "code",
   "execution_count": 52,
   "metadata": {},
   "outputs": [
    {
     "name": "stdout",
     "output_type": "stream",
     "text": [
      "1224\n",
      "-1224\n"
     ]
    }
   ],
   "source": [
    "def diff_sum_digits(x):\n",
    "    \"\"\"Returns input number minus sum of digits of input number.\"\"\"\n",
    "    return x - sum_digits(x)\n",
    "\n",
    "print(diff_sum_digits(1234))\n",
    "print(diff_sum_digits(-1234))"
   ]
  },
  {
   "cell_type": "code",
   "execution_count": 62,
   "metadata": {},
   "outputs": [
    {
     "name": "stdout",
     "output_type": "stream",
     "text": [
      "9\n",
      "9\n",
      "-9\n",
      "-9\n",
      "0\n"
     ]
    }
   ],
   "source": [
    "def one_digit(x):\n",
    "    \"\"\"Takes an integer and returns diff_sum_digits, replacing it with\"\"\"\n",
    "    \"\"\"sum_digits if digit count is more than 1.  This is repeated until\"\"\"\n",
    "    \"\"\"digit count is 1.\"\"\"\n",
    "    \n",
    "    if(x >= 0):\n",
    "        if (len(str(diff_sum_digits(x))) > 1):\n",
    "            while(len(str(diff_sum_digits(x))) > 1):\n",
    "                x = sum_digits(diff_sum_digits(x))\n",
    "            return(x)\n",
    "        else:\n",
    "            return (diff_sum_digits(x))\n",
    "    else:\n",
    "        x = -x\n",
    "        if (len(str(diff_sum_digits(x))) > 1):\n",
    "            while(len(str(diff_sum_digits(x))) > 1):\n",
    "                x = sum_digits(diff_sum_digits(x))\n",
    "            return(-x)\n",
    "        else:\n",
    "            return (-diff_sum_digits(x))\n",
    "print(diff_sum_digits(12))  \n",
    "print(diff_sum_digits(14))\n",
    "print(one_digit(-987654323456789098765432)) \n",
    "print(one_digit(-15))\n",
    "print(one_digit(9))"
   ]
  },
  {
   "cell_type": "code",
   "execution_count": 10,
   "metadata": {},
   "outputs": [
    {
     "data": {
      "text/plain": [
       "True"
      ]
     },
     "execution_count": 10,
     "metadata": {},
     "output_type": "execute_result"
    }
   ],
   "source": [
    "def is_consonant(x):\n",
    "    \"\"\"Takes a character and returns whether or not it is a consonant.\"\"\"\n",
    "    if x not in [\"a\",\"e\",\"i\",\"o\",\"u\"]:\n",
    "        return(True)\n",
    "is_consonant('l')"
   ]
  },
  {
   "cell_type": "code",
   "execution_count": 25,
   "metadata": {},
   "outputs": [
    {
     "name": "stdout",
     "output_type": "stream",
     "text": [
      "ogday\n",
      "orangeay\n",
      "Hetay ogday ateay hetay orangeay.\n"
     ]
    }
   ],
   "source": [
    "def to_piglatin(x):\n",
    "    \"\"\"Takes a string and converts it into piglatin.\"\"\"\n",
    "    if len(x.split(\" \")) > 1:\n",
    "        x = x[:-1]\n",
    "        x_list = x.split(\" \")\n",
    "        new_list = []\n",
    "        for x in x_list:\n",
    "            if is_consonant(x[0]):\n",
    "                x = x[1:] + x[0]\n",
    "            x = x + \"ay\"\n",
    "            new_list.append(x)\n",
    "        joined = \" \".join(new_list)\n",
    "        joined = joined.lower()\n",
    "        return joined.capitalize() + \".\"\n",
    "    else:        \n",
    "        if is_consonant(x[0]):\n",
    "            x = x[1:] + x[0]\n",
    "        return x + \"ay\"\n",
    "print(to_piglatin(\"dog\"))\n",
    "print(to_piglatin(\"orange\"))\n",
    "print(to_piglatin(\"The dog ate the orange.\"))"
   ]
  },
  {
   "cell_type": "code",
   "execution_count": null,
   "metadata": {},
   "outputs": [],
   "source": []
  }
 ],
 "metadata": {
  "kernelspec": {
   "display_name": "Python 3",
   "language": "python",
   "name": "python3"
  },
  "language_info": {
   "codemirror_mode": {
    "name": "ipython",
    "version": 3
   },
   "file_extension": ".py",
   "mimetype": "text/x-python",
   "name": "python",
   "nbconvert_exporter": "python",
   "pygments_lexer": "ipython3",
   "version": "3.7.6"
  }
 },
 "nbformat": 4,
 "nbformat_minor": 4
}
